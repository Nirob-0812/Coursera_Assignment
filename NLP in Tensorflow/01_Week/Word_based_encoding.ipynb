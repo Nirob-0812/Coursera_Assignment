{
 "cells": [
  {
   "cell_type": "code",
   "execution_count": 17,
   "metadata": {},
   "outputs": [],
   "source": [
    "import tensorflow as tf\n",
    "from tensorflow import keras\n",
    "from tensorflow.keras.preprocessing.text import Tokenizer\n",
    "from tensorflow.keras.preprocessing.sequence import pad_sequences"
   ]
  },
  {
   "cell_type": "code",
   "execution_count": 2,
   "metadata": {},
   "outputs": [
    {
     "name": "stdout",
     "output_type": "stream",
     "text": [
      "{'i': 1, 'love': 2, 'my': 3, 'cat': 4, 'child': 5}\n"
     ]
    }
   ],
   "source": [
    "sentences=[\n",
    "    'I love my cat',\n",
    "    'I Love my child'\n",
    "]\n",
    "tokenizer=Tokenizer(num_words=100)\n",
    "tokenizer.fit_on_texts(sentences)\n",
    "index=tokenizer.word_index\n",
    "print(index)\n"
   ]
  },
  {
   "cell_type": "code",
   "execution_count": 3,
   "metadata": {},
   "outputs": [
    {
     "name": "stdout",
     "output_type": "stream",
     "text": [
      "{'love': 1, 'my': 2, 'i': 3, 'cat': 4, 'child': 5, 'do': 6, 'you': 7}\n"
     ]
    }
   ],
   "source": [
    "sentences=[\n",
    "    'i love my cat',\n",
    "    'i love my child',\n",
    "    'Do you Love My Cat!'\n",
    "]\n",
    "\n",
    "tokenizer=Tokenizer(num_words=100)\n",
    "tokenizer.fit_on_texts(sentences)\n",
    "index=tokenizer.word_index\n",
    "print(index)\n"
   ]
  },
  {
   "cell_type": "code",
   "execution_count": 10,
   "metadata": {},
   "outputs": [
    {
     "name": "stdout",
     "output_type": "stream",
     "text": [
      "{'love': 1, 'my': 2, 'i': 3, 'cat': 4, 'child': 5, 'do': 6, 'you': 7}\n",
      "[[3, 1, 2, 4], [3, 1, 2, 5], [6, 7, 1, 2, 4]]\n"
     ]
    }
   ],
   "source": [
    "sentences=[\n",
    "    'i love my cat',\n",
    "    'i love my child',\n",
    "    'Do you Love My Cat!'\n",
    "]\n",
    "\n",
    "tokenizer=Tokenizer(num_words=100)\n",
    "tokenizer.fit_on_texts(sentences)\n",
    "index=tokenizer.word_index\n",
    "sequences = tokenizer.texts_to_sequences(sentences)\n",
    "print(index)\n",
    "print(sequences)\n"
   ]
  },
  {
   "cell_type": "code",
   "execution_count": 12,
   "metadata": {},
   "outputs": [
    {
     "name": "stdout",
     "output_type": "stream",
     "text": [
      "[[3, 1, 2, 4], [3, 1, 2, 5]]\n"
     ]
    }
   ],
   "source": [
    "test=[\n",
    "    'i love my cat',\n",
    "    'i also love my pet and child'\n",
    "]\n",
    "sequences=tokenizer.texts_to_sequences(test)\n",
    "print(sequences)"
   ]
  },
  {
   "cell_type": "markdown",
   "metadata": {},
   "source": [
    "Ignoring Unseen Words by OOV token"
   ]
  },
  {
   "cell_type": "code",
   "execution_count": 13,
   "metadata": {},
   "outputs": [
    {
     "name": "stdout",
     "output_type": "stream",
     "text": [
      "{'<OOV>': 1, 'love': 2, 'my': 3, 'i': 4, 'cat': 5, 'child': 6, 'do': 7, 'you': 8}\n",
      "[[4, 2, 3, 5], [4, 2, 3, 6], [7, 8, 2, 3, 5]]\n",
      "[[4, 2, 3, 5], [4, 1, 2, 3, 1, 1, 6]]\n"
     ]
    }
   ],
   "source": [
    "tokenizer=Tokenizer(num_words=100,oov_token='<OOV>')\n",
    "tokenizer.fit_on_texts(sentences)\n",
    "index=tokenizer.word_index\n",
    "sequences=tokenizer.texts_to_sequences(sentences)\n",
    "\n",
    "test_sequ=tokenizer.texts_to_sequences(test)\n",
    "\n",
    "print(index)\n",
    "print(sequences)\n",
    "print(test_sequ)"
   ]
  },
  {
   "cell_type": "code",
   "execution_count": 21,
   "metadata": {},
   "outputs": [
    {
     "name": "stdout",
     "output_type": "stream",
     "text": [
      "{'<OOV>': 1, 'love': 2, 'my': 3, 'i': 4, 'cat': 5, 'child': 6, 'do': 7, 'you': 8}\n",
      "[[3, 1, 2, 4], [3, 1, 2, 5], [6, 7, 8, 1, 2, 4, 9, 5]]\n",
      "[[0 0 0 0 3 1 2 4]\n",
      " [0 0 0 0 3 1 2 5]\n",
      " [6 7 8 1 2 4 9 5]]\n"
     ]
    }
   ],
   "source": [
    "sentences=[\n",
    "    'I love my cat',\n",
    "    'I love my child',\n",
    "    'Do you also love my cat and child'\n",
    "]\n",
    "\n",
    "tokenizers=Tokenizer(num_words=100)\n",
    "tokenizers.fit_on_texts(sentences)\n",
    "indexs=tokenizers.word_index\n",
    "sequences=tokenizers.texts_to_sequences(sentences)\n",
    "paddings=pad_sequences(sequences)\n",
    "\n",
    "print(index)\n",
    "print(sequences)\n",
    "print(paddings)"
   ]
  },
  {
   "cell_type": "code",
   "execution_count": 22,
   "metadata": {},
   "outputs": [
    {
     "name": "stdout",
     "output_type": "stream",
     "text": [
      "{'<OOV>': 1, 'love': 2, 'my': 3, 'i': 4, 'cat': 5, 'child': 6, 'do': 7, 'you': 8}\n",
      "[[3, 1, 2, 4], [3, 1, 2, 5], [6, 7, 8, 1, 2, 4, 9, 5]]\n",
      "[[3 1 2 4 0 0 0 0]\n",
      " [3 1 2 5 0 0 0 0]\n",
      " [6 7 8 1 2 4 9 5]]\n"
     ]
    }
   ],
   "source": [
    "sentences=[\n",
    "    'I love my cat',\n",
    "    'I love my child',\n",
    "    'Do you also love my cat and child'\n",
    "]\n",
    "\n",
    "tokenizers=Tokenizer(num_words=100)\n",
    "tokenizers.fit_on_texts(sentences)\n",
    "indexs=tokenizers.word_index\n",
    "sequences=tokenizers.texts_to_sequences(sentences)\n",
    "paddings=pad_sequences(sequences,padding='post')\n",
    "\n",
    "print(index)\n",
    "print(sequences)\n",
    "print(paddings)"
   ]
  },
  {
   "cell_type": "code",
   "execution_count": 28,
   "metadata": {},
   "outputs": [
    {
     "name": "stdout",
     "output_type": "stream",
     "text": [
      "{'<OOV>': 1, 'love': 2, 'my': 3, 'i': 4, 'cat': 5, 'child': 6, 'do': 7, 'you': 8}\n",
      "[[3, 1, 2, 4], [3, 1, 2, 5], [6, 7, 8, 1, 2, 4, 9, 5]]\n",
      "[[3 1 2 4 0]\n",
      " [3 1 2 5 0]\n",
      " [6 7 8 1 2]]\n"
     ]
    }
   ],
   "source": [
    "sentences=[\n",
    "    'I love my cat',\n",
    "    'I love my child',\n",
    "    'Do you also love my cat and child'\n",
    "]\n",
    "\n",
    "tokenizers=Tokenizer(num_words=100)\n",
    "tokenizers.fit_on_texts(sentences)\n",
    "indexs=tokenizers.word_index\n",
    "sequences=tokenizers.texts_to_sequences(sentences)\n",
    "paddings=pad_sequences(sequences,padding='post',truncating='post', maxlen=5)\n",
    "\n",
    "print(index)\n",
    "print(sequences)\n",
    "print(paddings)"
   ]
  },
  {
   "cell_type": "code",
   "execution_count": null,
   "metadata": {},
   "outputs": [],
   "source": []
  }
 ],
 "metadata": {
  "kernelspec": {
   "display_name": "Myenv310",
   "language": "python",
   "name": "python3"
  },
  "language_info": {
   "codemirror_mode": {
    "name": "ipython",
    "version": 3
   },
   "file_extension": ".py",
   "mimetype": "text/x-python",
   "name": "python",
   "nbconvert_exporter": "python",
   "pygments_lexer": "ipython3",
   "version": "3.10.13"
  }
 },
 "nbformat": 4,
 "nbformat_minor": 2
}
